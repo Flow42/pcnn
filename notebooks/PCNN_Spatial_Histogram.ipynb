{
 "cells": [
  {
   "cell_type": "markdown",
   "metadata": {},
   "source": [
    "# PCNN Spatial Histogram\n",
    "\n",
    "A spatial histogram, is a matrix of the same size as the given image, holding in each entry (i,j) the number of times a neuron has pulsed at this pixel position of a certain number of epochs"
   ]
  },
  {
   "cell_type": "code",
   "execution_count": null,
   "metadata": {
    "collapsed": true
   },
   "outputs": [],
   "source": [
    "import sys, os\n",
    "import time\n",
    "import numpy as np\n",
    "from matplotlib import pyplot as plt\n",
    "# %matplotlib\n",
    "plt.ion()\n",
    "from IPython import display\n",
    "sys.path.insert(0, os.path.abspath('..'))\n",
    "from pcnn import pcnn\n",
    "from pcnn_util import *"
   ]
  },
  {
   "cell_type": "code",
   "execution_count": null,
   "metadata": {
    "collapsed": true
   },
   "outputs": [],
   "source": [
    "# define the path to your image\n",
    "img_name = os.path.join('/'.join(os.getcwd().split('/')[:-1]) ,'img','Lena.png')\n",
    "# define the pcnn's parameters here\n",
    "epochs = 100\n",
    "# defines the linking strength\n",
    "beta = 1.0\n",
    "# defines the size of the receptive field\n",
    "k_size = 3\n",
    "kernel = np.ones((k_size,k_size))\n",
    "# setting the center of the 3x3 kernel to zero, so the central neuron does not influence the next pulse\n",
    "# kernel[1,1] = 0\n",
    "# normalize the brightness using a ratio of gaussians approach\n",
    "brightness_is_normed = False\n",
    "# define factors to dcrease image size. Resulting image will be h/a x w/b if (a,b) is given\n",
    "scales = (2,2)\n",
    "alpha = 0.01\n",
    "V = 0.9"
   ]
  },
  {
   "cell_type": "code",
   "execution_count": null,
   "metadata": {},
   "outputs": [],
   "source": [
    "p = pcnn(kernel=kernel, epochs=epochs, V=V, alpha=alpha, beta=beta, brightness_is_normed=brightness_is_normed, scales=scales)\n",
    "gen = p.get_gen(img_name)\n",
    "# the image is read by the pcnn module normally, but needed in this notebook explicitly\n",
    "img = read_img(img_name, False, scales, brightness_is_normed)\n",
    "spatial_hist = np.zeros_like(img)\n",
    "for epoch in range(epochs):\n",
    "    spatial_hist = spatial_hist + next(gen)\n",
    "\n",
    "f, axarr = plt.subplots(1,2,figsize=(18,7))\n",
    "# f.tight_layout()\n",
    "\n",
    "axarr[0].imshow(spatial_hist/epochs, 'gray')\n",
    "axarr[1].imshow(img, 'gray')\n",
    "plt.show()"
   ]
  }
 ],
 "metadata": {
  "kernelspec": {
   "display_name": "Python 3",
   "language": "python",
   "name": "python3"
  },
  "language_info": {
   "codemirror_mode": {
    "name": "ipython",
    "version": 3
   },
   "file_extension": ".py",
   "mimetype": "text/x-python",
   "name": "python",
   "nbconvert_exporter": "python",
   "pygments_lexer": "ipython3",
   "version": "3.5.2"
  }
 },
 "nbformat": 4,
 "nbformat_minor": 2
}
