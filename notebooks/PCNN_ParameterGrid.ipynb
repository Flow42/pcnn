{
 "cells": [
  {
   "cell_type": "markdown",
   "metadata": {},
   "source": [
    "## PCNN_ParameterGrid\n",
    "\n",
    "This notebook defines PCNN models with different paramters for alpha and V. The linking strengh beta will be fixed at 1. Note that the given images are also normalized to be between [0,1]. In this normalized case, one can assure, that the pcnn behaves periodically, depending on the values chosen for alpha and V.\n",
    "\n",
    "The resulting pulse-distributions from every PCNN will be shown in a subplot below, where in each iteration, the current pulses for the given image are shown"
   ]
  },
  {
   "cell_type": "code",
   "execution_count": null,
   "metadata": {
    "collapsed": true
   },
   "outputs": [],
   "source": [
    "import sys, os\n",
    "import time\n",
    "import numpy as np\n",
    "from matplotlib import pyplot as plt\n",
    "# %matplotlib\n",
    "plt.ion()\n",
    "from IPython import display\n",
    "sys.path.insert(0, os.path.abspath('..'))\n",
    "from pcnn import pcnn\n",
    "from pcnn_util import *"
   ]
  },
  {
   "cell_type": "code",
   "execution_count": null,
   "metadata": {
    "collapsed": true
   },
   "outputs": [],
   "source": [
    "# define the path to your image\n",
    "img_name = os.path.join('/'.join(os.getcwd().split('/')[:-1]) ,'img','Lena.png')\n",
    "# define the pcnn's parameters here\n",
    "epochs = 20\n",
    "# defines the linking strength\n",
    "beta = 1.0\n",
    "# defines the size of the receptive field\n",
    "k_size = 3\n",
    "kernel = np.ones((k_size,k_size))\n",
    "# setting the center of the 3x3 kernel to zero, so the central neuron does not influence the next pulse\n",
    "# kernel[1,1] = 0\n",
    "# normalize the brightness using a ratio of gaussians approach\n",
    "brightness_is_normed = False\n",
    "# define factors to dcrease image size. Resulting image will be h/a x w/b if (a,b) is given\n",
    "scales = (2,2)"
   ]
  },
  {
   "cell_type": "markdown",
   "metadata": {},
   "source": [
    "## run different pcnn's varying the alpha and V parameter\n",
    "\n",
    "In general V should be greater than alpha, or the network will always pulse. Greater values of V lead to\n",
    "a more sparse distribution of pulses, while greater values of alpha increase the pulsing frequency."
   ]
  },
  {
   "cell_type": "code",
   "execution_count": null,
   "metadata": {},
   "outputs": [],
   "source": [
    "gen_list = []\n",
    "# choose three values for V here\n",
    "V_list = [0.3,0.5,1]\n",
    "# choose three values for alpha here\n",
    "alpha_list = [0.05,0.2,0.3]\n",
    "# choose the delay after each plot here\n",
    "pause_val = 0.4\n",
    "for V in V_list:\n",
    "    for alpha in alpha_list:\n",
    "        p = pcnn(kernel=kernel, epochs=epochs, V=V, alpha=alpha, beta=beta,\n",
    "                 brightness_is_normed=brightness_is_normed, scales=scales)\n",
    "        gen_list.append(p.get_gen(img_name))\n",
    "\n",
    "f, axarr = plt.subplots(3, 3, figsize=(20,20))\n",
    "f.patch.set_facecolor('#bbbbbb')\n",
    "f.tight_layout()\n",
    "axis_list = []\n",
    "\n",
    "g = 0\n",
    "# init plot\n",
    "for i in range(3):\n",
    "    for j in range(3):\n",
    "        img = next(gen_list[g])\n",
    "        im_plot = axarr[i,j].imshow(img, 'gray', vmin=0, vmax=1)\n",
    "        axarr[i,j].axis('off')\n",
    "        axarr[i,j].set_title(\"V={}; alpha={}\".format(V_list[i],alpha_list[j]))\n",
    "        axis_list.append(im_plot)\n",
    "        g = g+1\n",
    "\n",
    "plt.show()\n",
    "# plt.pause(0.5)\n",
    "display.clear_output(wait=True)\n",
    "\n",
    "for epoch in range(1,epochs):\n",
    "    for i, gen in enumerate(gen_list):\n",
    "        img = next(gen)\n",
    "        axis_list[i].set_data(img)\n",
    "    plt.pause(pause_val)\n",
    "    plt.show()\n",
    "    display.display(f)\n",
    "    print(\"Epoch {}\".format(epoch))\n",
    "    display.clear_output(wait=True)"
   ]
  }
 ],
 "metadata": {
  "kernelspec": {
   "display_name": "Python 3",
   "language": "python",
   "name": "python3"
  },
  "language_info": {
   "codemirror_mode": {
    "name": "ipython",
    "version": 3
   },
   "file_extension": ".py",
   "mimetype": "text/x-python",
   "name": "python",
   "nbconvert_exporter": "python",
   "pygments_lexer": "ipython3",
   "version": "3.5.2"
  }
 },
 "nbformat": 4,
 "nbformat_minor": 2
}
